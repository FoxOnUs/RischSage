{
 "cells": [
  {
   "cell_type": "code",
   "execution_count": 65,
   "id": "c3ec0882",
   "metadata": {},
   "outputs": [
    {
     "ename": "SyntaxError",
     "evalue": "incomplete input (357092905.py, line 5)",
     "output_type": "error",
     "traceback": [
      "\u001b[0;36m  Input \u001b[0;32mIn [65]\u001b[0;36m\u001b[0m\n\u001b[0;31m    '''\u001b[0m\n\u001b[0m    ^\u001b[0m\n\u001b[0;31mSyntaxError\u001b[0m\u001b[0;31m:\u001b[0m incomplete input\n"
     ]
    }
   ],
   "source": [
    "# f: expression\n",
    "# x: symbol\n",
    "def heurisch(f,x):\n",
    "    \n",
    "    '''\n",
    "    if not f.has_free(x):\n",
    "        return f*x\n",
    "    '''\n",
    "    if x not in f.free_variables():\n",
    "        return f*x\n",
    "    ..."
   ]
  },
  {
   "cell_type": "code",
   "execution_count": 57,
   "id": "f25a368e",
   "metadata": {},
   "outputs": [],
   "source": [
    "K.<x> = FunctionField(QQbar)"
   ]
  },
  {
   "cell_type": "code",
   "execution_count": 58,
   "id": "906f8451",
   "metadata": {},
   "outputs": [],
   "source": [
    "x = var('x')\n",
    "f = x^2"
   ]
  },
  {
   "cell_type": "code",
   "execution_count": 59,
   "id": "4de085e8",
   "metadata": {},
   "outputs": [],
   "source": [
    "g = sin(x)"
   ]
  },
  {
   "cell_type": "code",
   "execution_count": 7,
   "id": "644ce719",
   "metadata": {},
   "outputs": [
    {
     "data": {
      "text/plain": [
       "Rational function field in x over Algebraic Field"
      ]
     },
     "execution_count": 7,
     "metadata": {},
     "output_type": "execute_result"
    }
   ],
   "source": [
    "K"
   ]
  },
  {
   "cell_type": "code",
   "execution_count": 8,
   "id": "b1552744",
   "metadata": {},
   "outputs": [
    {
     "data": {
      "text/plain": [
       "<class 'sage.rings.function_field.element.FunctionFieldElement_rational'>"
      ]
     },
     "execution_count": 8,
     "metadata": {},
     "output_type": "execute_result"
    }
   ],
   "source": [
    "type(f)"
   ]
  },
  {
   "cell_type": "code",
   "execution_count": 9,
   "id": "20ba4c8c",
   "metadata": {},
   "outputs": [
    {
     "ename": "TypeError",
     "evalue": "cannot coerce arguments: no canonical coercion from Rational function field in x over Algebraic Field to Symbolic Ring",
     "output_type": "error",
     "traceback": [
      "\u001b[0;31m---------------------------------------------------------------------------\u001b[0m",
      "\u001b[0;31mTypeError\u001b[0m                                 Traceback (most recent call last)",
      "File \u001b[0;32m/private/var/tmp/sage-9.7-current/local/var/lib/sage/venv-python3.10.5/lib/python3.10/site-packages/sage/symbolic/function.pyx:527\u001b[0m, in \u001b[0;36msage.symbolic.function.Function.__call__ (build/cythonized/sage/symbolic/function.c:5875)\u001b[0;34m()\u001b[0m\n\u001b[1;32m    526\u001b[0m try:\n\u001b[0;32m--> 527\u001b[0m     args = [SR.coerce(a) for a in args]\n\u001b[1;32m    528\u001b[0m except TypeError as err:\n",
      "File \u001b[0;32m/private/var/tmp/sage-9.7-current/local/var/lib/sage/venv-python3.10.5/lib/python3.10/site-packages/sage/structure/parent.pyx:1183\u001b[0m, in \u001b[0;36msage.structure.parent.Parent.coerce (build/cythonized/sage/structure/parent.c:11196)\u001b[0;34m()\u001b[0m\n\u001b[1;32m   1182\u001b[0m \n\u001b[0;32m-> 1183\u001b[0m     cpdef coerce(self, x):\n\u001b[1;32m   1184\u001b[0m         \"\"\"\n",
      "File \u001b[0;32m/private/var/tmp/sage-9.7-current/local/var/lib/sage/venv-python3.10.5/lib/python3.10/site-packages/sage/structure/parent.pyx:1213\u001b[0m, in \u001b[0;36msage.structure.parent.Parent.coerce (build/cythonized/sage/structure/parent.c:11122)\u001b[0;34m()\u001b[0m\n\u001b[1;32m   1212\u001b[0m             _record_exception()\n\u001b[0;32m-> 1213\u001b[0m     raise TypeError(_LazyString(\"no canonical coercion from %s to %s\", (parent(x), self), {}))\n\u001b[1;32m   1214\u001b[0m else:\n",
      "\u001b[0;31mTypeError\u001b[0m: no canonical coercion from Rational function field in x over Algebraic Field to Symbolic Ring",
      "\nDuring handling of the above exception, another exception occurred:\n",
      "\u001b[0;31mTypeError\u001b[0m                                 Traceback (most recent call last)",
      "Input \u001b[0;32mIn [9]\u001b[0m, in \u001b[0;36m<cell line: 1>\u001b[0;34m()\u001b[0m\n\u001b[0;32m----> 1\u001b[0m \u001b[43msin\u001b[49m\u001b[43m(\u001b[49m\u001b[43mx\u001b[49m\u001b[43m)\u001b[49m\n",
      "File \u001b[0;32m/private/var/tmp/sage-9.7-current/local/var/lib/sage/venv-python3.10.5/lib/python3.10/site-packages/sage/symbolic/function.pyx:1033\u001b[0m, in \u001b[0;36msage.symbolic.function.BuiltinFunction.__call__ (build/cythonized/sage/symbolic/function.c:11087)\u001b[0;34m()\u001b[0m\n\u001b[1;32m   1031\u001b[0m res = self._evalf_try_(*args)\n\u001b[1;32m   1032\u001b[0m if res is None:\n\u001b[0;32m-> 1033\u001b[0m     res = super().__call__(\n\u001b[1;32m   1034\u001b[0m             *args, coerce=coerce, hold=hold)\n\u001b[1;32m   1035\u001b[0m \n",
      "File \u001b[0;32m/private/var/tmp/sage-9.7-current/local/var/lib/sage/venv-python3.10.5/lib/python3.10/site-packages/sage/symbolic/function.pyx:540\u001b[0m, in \u001b[0;36msage.symbolic.function.Function.__call__ (build/cythonized/sage/symbolic/function.c:6037)\u001b[0;34m()\u001b[0m\n\u001b[1;32m    538\u001b[0m             if callable(method):\n\u001b[1;32m    539\u001b[0m                 return method()\n\u001b[0;32m--> 540\u001b[0m         raise TypeError(\"cannot coerce arguments: %s\" % (err))\n\u001b[1;32m    541\u001b[0m \n\u001b[1;32m    542\u001b[0m else: # coerce == False\n",
      "\u001b[0;31mTypeError\u001b[0m: cannot coerce arguments: no canonical coercion from Rational function field in x over Algebraic Field to Symbolic Ring"
     ]
    }
   ],
   "source": [
    "sin(x)"
   ]
  },
  {
   "cell_type": "code",
   "execution_count": 67,
   "id": "7dfeef49",
   "metadata": {},
   "outputs": [],
   "source": [
    "x,y = var('x', 'y')\n",
    "\n",
    "exp1 = sin(x)\n",
    "exp2 = sin(x)*y\n",
    "exp3 = x-x+y\n"
   ]
  },
  {
   "cell_type": "code",
   "execution_count": 79,
   "id": "19adeee7",
   "metadata": {},
   "outputs": [
    {
     "data": {
      "text/plain": [
       "[]"
      ]
     },
     "execution_count": 79,
     "metadata": {},
     "output_type": "execute_result"
    }
   ],
   "source": [
    "exp2.find(sin(y))"
   ]
  },
  {
   "cell_type": "code",
   "execution_count": 85,
   "id": "3d576beb",
   "metadata": {},
   "outputs": [
    {
     "data": {
      "text/plain": [
       "(y,)"
      ]
     },
     "execution_count": 85,
     "metadata": {},
     "output_type": "execute_result"
    }
   ],
   "source": [
    "exp3.free_variables()"
   ]
  },
  {
   "cell_type": "code",
   "execution_count": 82,
   "id": "12175eb0",
   "metadata": {},
   "outputs": [
    {
     "data": {
      "text/plain": [
       "(x,)"
      ]
     },
     "execution_count": 82,
     "metadata": {},
     "output_type": "execute_result"
    }
   ],
   "source": [
    "sin(x).coefficients()"
   ]
  },
  {
   "cell_type": "code",
   "execution_count": 64,
   "id": "ed51894c",
   "metadata": {},
   "outputs": [
    {
     "data": {
      "text/plain": [
       "2"
      ]
     },
     "execution_count": 64,
     "metadata": {},
     "output_type": "execute_result"
    }
   ],
   "source": [
    "(sin(x)^2).degree(sin(x))"
   ]
  },
  {
   "cell_type": "code",
   "execution_count": 81,
   "id": "d183c4e2",
   "metadata": {},
   "outputs": [
    {
     "data": {
      "text/plain": [
       "(x,)"
      ]
     },
     "execution_count": 81,
     "metadata": {},
     "output_type": "execute_result"
    }
   ],
   "source": [
    "(x^2).free_variables()"
   ]
  },
  {
   "cell_type": "code",
   "execution_count": 30,
   "id": "3c05358f",
   "metadata": {},
   "outputs": [
    {
     "ename": "TypeError",
     "evalue": "argument of type 'sage.symbolic.expression.Expression' is not iterable",
     "output_type": "error",
     "traceback": [
      "\u001b[0;31m---------------------------------------------------------------------------\u001b[0m",
      "\u001b[0;31mTypeError\u001b[0m                                 Traceback (most recent call last)",
      "Input \u001b[0;32mIn [30]\u001b[0m, in \u001b[0;36m<cell line: 1>\u001b[0;34m()\u001b[0m\n\u001b[0;32m----> 1\u001b[0m \u001b[43mx\u001b[49m\u001b[43m \u001b[49m\u001b[38;5;129;43;01min\u001b[39;49;00m\u001b[43m \u001b[49m\u001b[43mx\u001b[49m\u001b[38;5;241;43m*\u001b[39;49m\u001b[38;5;241;43m*\u001b[39;49m\u001b[43mInteger\u001b[49m\u001b[43m(\u001b[49m\u001b[38;5;241;43m2\u001b[39;49m\u001b[43m)\u001b[49m\n",
      "\u001b[0;31mTypeError\u001b[0m: argument of type 'sage.symbolic.expression.Expression' is not iterable"
     ]
    }
   ],
   "source": [
    "\n",
    "def _symbols(name, n):\n",
    "    lsyms = []\n",
    "    while len(lsyms) < n:\n",
    "        lsyms.append( var('%s%i' % (name, len(lsyms))) )\n",
    "    return lsyms[:n]\n",
    "\n",
    "V = _symbols('x', len(terms))\n",
    "\n",
    "def _derivation(V, h):\n",
    "    return Add(*[ d * h.diff(v) for d, v in zip(numers, V) ])\n",
    "\n",
    "def _deflation(V, p):\n",
    "    for y in "
   ]
  },
  {
   "cell_type": "code",
   "execution_count": 32,
   "id": "88b358ce",
   "metadata": {},
   "outputs": [
    {
     "data": {
      "text/plain": [
       "'\\ndef _symbols(name, n):\\n    \"\"\"get vector of symbols local to this module\"\"\"\\n    try:\\n        lsyms = _symbols_cache[name]\\n    except KeyError:\\n        lsyms = []\\n        _symbols_cache[name] = lsyms\\n\\n    while len(lsyms) < n:\\n        lsyms.append( Dummy(\\'%s%i\\' % (name, len(lsyms))) )\\n\\n    return lsyms[:n]\\n\\nV = _symbols(\\'x\\', len(terms))\\n\\ndef _derivation(V, h):\\n    return Add(*[ d * h.diff(v) for d, v in zip(numers, V) ])   \\n\\ndef _deflation(p):\\n    for y in V:\\n        if not p.has(y):\\n            continue\\n\\n        if _derivation(p) is not S.Zero:\\n            c, q = p.as_poly(y).primitive()\\n            return _deflation(c)*gcd(q, q.diff(y)).as_expr()\\n\\n    return p\\n\\ndef _splitter(p):\\n    for y in V:\\n        if not p.has(y):\\n            continue\\n\\n        if _derivation(y) is not S.Zero:\\n            c, q = p.as_poly(y).primitive()\\n\\n            q = q.as_expr()\\n\\n            h = gcd(q, _derivation(q), y)\\n            s = quo(h, gcd(q, q.diff(y), y), y)\\n\\n            c_split = _splitter(c)\\n\\n            if s.as_poly(y).degree() == 0:\\n                return (c_split[0], q * c_split[1])\\n\\n            q_split = _splitter(cancel(q / s))\\n\\n            return (c_split[0]*q_split[0]*s, c_split[1]*q_split[1])\\n\\n    return (S.One, p)\\n'"
      ]
     },
     "execution_count": 32,
     "metadata": {},
     "output_type": "execute_result"
    }
   ],
   "source": [
    "'''\n",
    "def _symbols(name, n):\n",
    "    \"\"\"get vector of symbols local to this module\"\"\"\n",
    "    try:\n",
    "        lsyms = _symbols_cache[name]\n",
    "    except KeyError:\n",
    "        lsyms = []\n",
    "        _symbols_cache[name] = lsyms\n",
    "\n",
    "    while len(lsyms) < n:\n",
    "        lsyms.append( Dummy('%s%i' % (name, len(lsyms))) )\n",
    "\n",
    "    return lsyms[:n]\n",
    "\n",
    "V = _symbols('x', len(terms))\n",
    "\n",
    "def _derivation(V, h):\n",
    "    return Add(*[ d * h.diff(v) for d, v in zip(numers, V) ])   \n",
    "\n",
    "def _deflation(p):\n",
    "    for y in V:\n",
    "        if not p.has(y):\n",
    "            continue\n",
    "\n",
    "        if _derivation(p) is not S.Zero:\n",
    "            c, q = p.as_poly(y).primitive()\n",
    "            return _deflation(c)*gcd(q, q.diff(y)).as_expr()\n",
    "\n",
    "    return p\n",
    "\n",
    "def _splitter(p):\n",
    "    for y in V:\n",
    "        if not p.has(y):\n",
    "            continue\n",
    "\n",
    "        if _derivation(y) is not S.Zero:\n",
    "            c, q = p.as_poly(y).primitive()\n",
    "\n",
    "            q = q.as_expr()\n",
    "\n",
    "            h = gcd(q, _derivation(q), y)\n",
    "            s = quo(h, gcd(q, q.diff(y), y), y)\n",
    "\n",
    "            c_split = _splitter(c)\n",
    "\n",
    "            if s.as_poly(y).degree() == 0:\n",
    "                return (c_split[0], q * c_split[1])\n",
    "\n",
    "            q_split = _splitter(cancel(q / s))\n",
    "\n",
    "            return (c_split[0]*q_split[0]*s, c_split[1]*q_split[1])\n",
    "\n",
    "    return (S.One, p)\n",
    "'''"
   ]
  },
  {
   "cell_type": "code",
   "execution_count": null,
   "id": "040827ff",
   "metadata": {},
   "outputs": [],
   "source": []
  }
 ],
 "metadata": {
  "kernelspec": {
   "display_name": "SageMath 9.7",
   "language": "sage",
   "name": "sagemath-9.7"
  },
  "language_info": {
   "codemirror_mode": {
    "name": "ipython",
    "version": 3
   },
   "file_extension": ".py",
   "mimetype": "text/x-python",
   "name": "python",
   "nbconvert_exporter": "python",
   "pygments_lexer": "ipython3",
   "version": "3.10.5"
  }
 },
 "nbformat": 4,
 "nbformat_minor": 5
}
